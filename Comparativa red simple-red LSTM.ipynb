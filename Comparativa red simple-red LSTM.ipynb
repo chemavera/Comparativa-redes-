{
 "cells": [
  {
   "cell_type": "markdown",
   "metadata": {
    "colab_type": "text",
    "id": "a0x5NHY2xPhc"
   },
   "source": [
    "# Clasificador de tweets.\n",
    "\n",
    "Dado el siguiente conjunto de datos\n",
    "\n",
    "http://help.sentiment140.com/for-students/\n",
    "\n",
    "Crear una red neuronal capaz de clasificar los tweets según la connotación del contenido (negativo/neutral/positivo).\n",
    "\n",
    "Será necesario utilizar técnicas de Word Embedding para la codificación del contenido. Utilizar la librería keras para obtener una embedding matrix propia y comparar los resultados obtenidos con un embedding matrix preentrenado de tipo word2vec de vuestra elección.\n",
    "\n",
    "Para las unidades de la red neuronal recurrente se han utilizado dos tipos diferentes Simple, y LSTM , para comparar los resultados obtenidos.\n",
    "\n",
    "Comentarios sobre el data set:\n",
    "\n",
    "Como habréis visto en la definción del problema existen tres clases diferentes. Pero estas tres clases, solo aparecen en los datos de testeo, no en los de entrenamiento. Por tanto la precisión será siempre menor. La solución sería obtener más datos o realizar un muestreo de los datos para generar de nuevo los conjuntos de entrenamiento y testeo, pero esta última solución podría producir un fenomeno de infrarrepresentación de la clase neutro. Es por eso que se ha optado por eliminar aquellas tuplas de clase neutro del conjunto de testeo y se ha planteado como un problema binario (positivo-negativo)."
   ]
  },
  {
   "cell_type": "code",
   "execution_count": 1,
   "metadata": {},
   "outputs": [
    {
     "data": {
      "text/plain": [
       "'1.1.1'"
      ]
     },
     "execution_count": 1,
     "metadata": {},
     "output_type": "execute_result"
    }
   ],
   "source": [
    "import flask\n",
    "flask.__version__"
   ]
  },
  {
   "cell_type": "code",
   "execution_count": 2,
   "metadata": {
    "colab": {},
    "colab_type": "code",
    "id": "msmaNlbsWId5"
   },
   "outputs": [],
   "source": [
    "import pandas as pd"
   ]
  },
  {
   "cell_type": "code",
   "execution_count": 3,
   "metadata": {
    "colab": {
     "base_uri": "https://localhost:8080/",
     "height": 50
    },
    "colab_type": "code",
    "id": "IPkqGSNKxVVO",
    "outputId": "e084c933-4f02-4879-cb8e-5ee794f46c4e"
   },
   "outputs": [
    {
     "name": "stdout",
     "output_type": "stream",
     "text": [
      "Número de Tweets de entrenamiento: 1600000\n",
      "Número de Tweets de test: 359\n"
     ]
    }
   ],
   "source": [
    "#Tweets de entrenamiento.\n",
    "tweets_train = './/data/traindatanormalized2.csv'\n",
    "\n",
    "df_train = pd.read_csv(tweets_train)\n",
    "df_train.Text=df_train.Text.astype(str)\n",
    "df_train['Sentiment'] = df_train['Sentiment'].replace({0: 0, 4: 1})\n",
    "df_train = df_train.sample(frac=1).reset_index(drop=True)\n",
    "tweets_train = [tuple(x) for x in df_train.values]\n",
    "\n",
    "#Tweets de prueba.\n",
    "tweets_test = './/data/testdatanormalized2.csv'\n",
    "\n",
    "df_test = pd.read_csv(tweets_test)\n",
    "df_test.Text=df_test.Text.astype(str)\n",
    "df_test = df_test.drop(df_test[df_test['Sentiment']==2].index)\n",
    "df_test['Sentiment'] = df_test['Sentiment'].replace({0: 0, 4: 1})\n",
    "tweets_test = [tuple(x) for x in df_test.values]\n",
    "\n",
    "print('Número de Tweets de entrenamiento: {num}'.format(num=len(tweets_train)))\n",
    "print('Número de Tweets de test: {num}'.format(num=len(tweets_test)))"
   ]
  },
  {
   "cell_type": "markdown",
   "metadata": {
    "colab_type": "text",
    "id": "5rjNXnze-2Ls"
   },
   "source": [
    "## Normalización\n",
    "Los datos se han normalizado con este código pero en un archivo de tipo .py con spyder, ya que al tratar con un dataset tan ammplio, preferí normalizarlo y guardarlo, para posteriormente poder trabajar con el dataset ya normalizado.\n",
    "\n",
    "* Para este ejemplo haremos uso de ***spaCy***, pero en este caso tenemos que utilizar (e importar) el modelo para Inglés. \n",
    "\n",
    "* Para ***normalizar*** los tweets realizaremos las siguientes acciones:\n",
    "    1. Pasamos las frases a minúsculas.\n",
    "    2. Eliminamos los signos de puntuación.\n",
    "    3. Eliminamos las palabras con menos de 3 caracteres.\n",
    "    4. Eliminamos las Stop-Words.\n",
    "    5. Eliminamos las palabras que empiecen por '@' o 'http'.\n",
    "    6. Pasamos la palabra a su lema.\n",
    "\n",
    "\n",
    "* Todos estos pasos los vamos a realizar en una misma función:\n",
    "\n",
    ":\n",
    "    \n",
    "    import spacy\n",
    "    nlp = spacy.load('en_core_web_sm')\n",
    "\n",
    "* Divido los datos en dos listas:\n",
    "     * X_train: los tweets de entrenamiento.\n",
    "     * y_train: target (polaridad) de entrenamiento.\n",
    "     \n",
    ":\n",
    "    \n",
    "    X_train = [doc[5] for doc in tweets_train]\n",
    "    y_train = [doc[0] for doc in tweets_train]\n",
    "\n",
    "* Realizamos la misma acción para los datos de test:\n",
    "     * X_test: los tweets de test.\n",
    "     * y_test: target (polaridad) de test.\n",
    "     \n",
    ":\n",
    "    \n",
    "    X_test = [doc[5] for doc in tweets_test]\n",
    "    y_test = [doc[0] for doc in tweets_test]\n",
    "\n",
    "* Normalizamos la lista de frases y devolvemos la misma lista de frases normalizada:\n",
    "\n",
    ":\n",
    "    \n",
    "    def normalize(sentenses):\n",
    "    \n",
    "      for index, sentense in enumerate(sentenses): \n",
    "        \n",
    "          sentense = nlp(sentense.lower()) \n",
    "          sentenses[index] = \" \".join([word.lemma_ for word in sentense if (not word.is_punct) #Eliminamos signos.\n",
    "                                     and (len(word.text) > 2) and (not word.is_stop) #Eliminamos palabras cortas.\n",
    "                                     and (not word.text.startswith('@')) and (not word.text.startswith('http'))]) #Eliminamos @ y http.\n",
    "                                     \n",
    "* Normalizamos las frases:\n",
    "                                     \n",
    "       X_train = normalize(X_train)\n",
    "       X_test = normalize(X_test)\n",
    "       \n",
    "* Y lo guardamos:\n",
    "       \n",
    "       df_train.to_csv('.//trainandtestdata/traindatanormalized.csv')\n",
    "       df_test.to_csv('.//trainandtestdata/testdatanormalized.csv')"
   ]
  },
  {
   "cell_type": "code",
   "execution_count": 4,
   "metadata": {
    "colab": {
     "base_uri": "https://localhost:8080/",
     "height": 343
    },
    "colab_type": "code",
    "id": "FMMrTye0L1X7",
    "outputId": "9bb61d78-3c11-4aab-941f-292592a784f1"
   },
   "outputs": [
    {
     "data": {
      "text/html": [
       "<div>\n",
       "<style scoped>\n",
       "    .dataframe tbody tr th:only-of-type {\n",
       "        vertical-align: middle;\n",
       "    }\n",
       "\n",
       "    .dataframe tbody tr th {\n",
       "        vertical-align: top;\n",
       "    }\n",
       "\n",
       "    .dataframe thead th {\n",
       "        text-align: right;\n",
       "    }\n",
       "</style>\n",
       "<table border=\"1\" class=\"dataframe\">\n",
       "  <thead>\n",
       "    <tr style=\"text-align: right;\">\n",
       "      <th></th>\n",
       "      <th>Sentiment</th>\n",
       "      <th>1</th>\n",
       "      <th>2</th>\n",
       "      <th>3</th>\n",
       "      <th>4</th>\n",
       "      <th>Text</th>\n",
       "    </tr>\n",
       "  </thead>\n",
       "  <tbody>\n",
       "    <tr>\n",
       "      <td>0</td>\n",
       "      <td>0</td>\n",
       "      <td>2207205191</td>\n",
       "      <td>Wed Jun 17 07:37:34 PDT 2009</td>\n",
       "      <td>NO_QUERY</td>\n",
       "      <td>turdboy420</td>\n",
       "      <td>barely learn quot;abc alphabet song&amp;quot parod...</td>\n",
       "    </tr>\n",
       "    <tr>\n",
       "      <td>1</td>\n",
       "      <td>0</td>\n",
       "      <td>1973460372</td>\n",
       "      <td>Sat May 30 11:11:27 PDT 2009</td>\n",
       "      <td>NO_QUERY</td>\n",
       "      <td>monicananz</td>\n",
       "      <td>pam gooood miss</td>\n",
       "    </tr>\n",
       "    <tr>\n",
       "      <td>2</td>\n",
       "      <td>1</td>\n",
       "      <td>2015301421</td>\n",
       "      <td>Wed Jun 03 04:17:23 PDT 2009</td>\n",
       "      <td>NO_QUERY</td>\n",
       "      <td>nevitsky</td>\n",
       "      <td>totally join reception</td>\n",
       "    </tr>\n",
       "    <tr>\n",
       "      <td>3</td>\n",
       "      <td>1</td>\n",
       "      <td>1972346610</td>\n",
       "      <td>Sat May 30 09:03:13 PDT 2009</td>\n",
       "      <td>NO_QUERY</td>\n",
       "      <td>bizzrock</td>\n",
       "      <td>love saturday run pick old college friend let ...</td>\n",
       "    </tr>\n",
       "    <tr>\n",
       "      <td>4</td>\n",
       "      <td>1</td>\n",
       "      <td>2184602030</td>\n",
       "      <td>Mon Jun 15 16:08:54 PDT 2009</td>\n",
       "      <td>NO_QUERY</td>\n",
       "      <td>Mooblr</td>\n",
       "      <td>hey new follower come introduce</td>\n",
       "    </tr>\n",
       "    <tr>\n",
       "      <td>5</td>\n",
       "      <td>0</td>\n",
       "      <td>1686703449</td>\n",
       "      <td>Sun May 03 06:28:18 PDT 2009</td>\n",
       "      <td>NO_QUERY</td>\n",
       "      <td>thoughtprinter</td>\n",
       "      <td>dislike science actually dislike study</td>\n",
       "    </tr>\n",
       "    <tr>\n",
       "      <td>6</td>\n",
       "      <td>0</td>\n",
       "      <td>1969449962</td>\n",
       "      <td>Sat May 30 00:04:29 PDT 2009</td>\n",
       "      <td>NO_QUERY</td>\n",
       "      <td>AndrewVassallo</td>\n",
       "      <td>rise amp shine second element miss anyway go j...</td>\n",
       "    </tr>\n",
       "    <tr>\n",
       "      <td>7</td>\n",
       "      <td>1</td>\n",
       "      <td>1985803184</td>\n",
       "      <td>Sun May 31 17:48:12 PDT 2009</td>\n",
       "      <td>NO_QUERY</td>\n",
       "      <td>mariahisazebra</td>\n",
       "      <td>check email</td>\n",
       "    </tr>\n",
       "    <tr>\n",
       "      <td>8</td>\n",
       "      <td>0</td>\n",
       "      <td>2286097474</td>\n",
       "      <td>Mon Jun 22 15:59:40 PDT 2009</td>\n",
       "      <td>NO_QUERY</td>\n",
       "      <td>lexytime</td>\n",
       "      <td>miss</td>\n",
       "    </tr>\n",
       "    <tr>\n",
       "      <td>9</td>\n",
       "      <td>1</td>\n",
       "      <td>2056645891</td>\n",
       "      <td>Sat Jun 06 11:31:47 PDT 2009</td>\n",
       "      <td>NO_QUERY</td>\n",
       "      <td>watudoinsammie</td>\n",
       "      <td>mmmm noodle</td>\n",
       "    </tr>\n",
       "  </tbody>\n",
       "</table>\n",
       "</div>"
      ],
      "text/plain": [
       "   Sentiment           1                             2         3  \\\n",
       "0          0  2207205191  Wed Jun 17 07:37:34 PDT 2009  NO_QUERY   \n",
       "1          0  1973460372  Sat May 30 11:11:27 PDT 2009  NO_QUERY   \n",
       "2          1  2015301421  Wed Jun 03 04:17:23 PDT 2009  NO_QUERY   \n",
       "3          1  1972346610  Sat May 30 09:03:13 PDT 2009  NO_QUERY   \n",
       "4          1  2184602030  Mon Jun 15 16:08:54 PDT 2009  NO_QUERY   \n",
       "5          0  1686703449  Sun May 03 06:28:18 PDT 2009  NO_QUERY   \n",
       "6          0  1969449962  Sat May 30 00:04:29 PDT 2009  NO_QUERY   \n",
       "7          1  1985803184  Sun May 31 17:48:12 PDT 2009  NO_QUERY   \n",
       "8          0  2286097474  Mon Jun 22 15:59:40 PDT 2009  NO_QUERY   \n",
       "9          1  2056645891  Sat Jun 06 11:31:47 PDT 2009  NO_QUERY   \n",
       "\n",
       "                4                                               Text  \n",
       "0      turdboy420  barely learn quot;abc alphabet song&quot parod...  \n",
       "1      monicananz                                    pam gooood miss  \n",
       "2        nevitsky                             totally join reception  \n",
       "3        bizzrock  love saturday run pick old college friend let ...  \n",
       "4          Mooblr                    hey new follower come introduce  \n",
       "5  thoughtprinter             dislike science actually dislike study  \n",
       "6  AndrewVassallo  rise amp shine second element miss anyway go j...  \n",
       "7  mariahisazebra                                        check email  \n",
       "8        lexytime                                               miss  \n",
       "9  watudoinsammie                                        mmmm noodle  "
      ]
     },
     "execution_count": 4,
     "metadata": {},
     "output_type": "execute_result"
    }
   ],
   "source": [
    "df_train = df_train.drop('Unnamed: 0', 1)\n",
    "df_train.head(10)"
   ]
  },
  {
   "cell_type": "code",
   "execution_count": 5,
   "metadata": {
    "colab": {
     "base_uri": "https://localhost:8080/",
     "height": 343
    },
    "colab_type": "code",
    "id": "VQ6mwrODW5Gd",
    "outputId": "eff901c5-e2b6-4d2e-9a89-04946e06fe0c"
   },
   "outputs": [
    {
     "data": {
      "text/html": [
       "<div>\n",
       "<style scoped>\n",
       "    .dataframe tbody tr th:only-of-type {\n",
       "        vertical-align: middle;\n",
       "    }\n",
       "\n",
       "    .dataframe tbody tr th {\n",
       "        vertical-align: top;\n",
       "    }\n",
       "\n",
       "    .dataframe thead th {\n",
       "        text-align: right;\n",
       "    }\n",
       "</style>\n",
       "<table border=\"1\" class=\"dataframe\">\n",
       "  <thead>\n",
       "    <tr style=\"text-align: right;\">\n",
       "      <th></th>\n",
       "      <th>Sentiment</th>\n",
       "      <th>1</th>\n",
       "      <th>2</th>\n",
       "      <th>3</th>\n",
       "      <th>4</th>\n",
       "      <th>Text</th>\n",
       "    </tr>\n",
       "  </thead>\n",
       "  <tbody>\n",
       "    <tr>\n",
       "      <td>0</td>\n",
       "      <td>1</td>\n",
       "      <td>3</td>\n",
       "      <td>Mon May 11 03:17:40 UTC 2009</td>\n",
       "      <td>kindle2</td>\n",
       "      <td>tpryan</td>\n",
       "      <td>love kindle2 cool fantastic right</td>\n",
       "    </tr>\n",
       "    <tr>\n",
       "      <td>1</td>\n",
       "      <td>1</td>\n",
       "      <td>4</td>\n",
       "      <td>Mon May 11 03:18:03 UTC 2009</td>\n",
       "      <td>kindle2</td>\n",
       "      <td>vcu451</td>\n",
       "      <td>read kindle2 love lee child good read</td>\n",
       "    </tr>\n",
       "    <tr>\n",
       "      <td>2</td>\n",
       "      <td>1</td>\n",
       "      <td>5</td>\n",
       "      <td>Mon May 11 03:18:54 UTC 2009</td>\n",
       "      <td>kindle2</td>\n",
       "      <td>chadfu</td>\n",
       "      <td>assesment kindle2 fucking rock</td>\n",
       "    </tr>\n",
       "    <tr>\n",
       "      <td>3</td>\n",
       "      <td>1</td>\n",
       "      <td>6</td>\n",
       "      <td>Mon May 11 03:19:04 UTC 2009</td>\n",
       "      <td>kindle2</td>\n",
       "      <td>SIX15</td>\n",
       "      <td>love kindle2 month look new big huge need remorse</td>\n",
       "    </tr>\n",
       "    <tr>\n",
       "      <td>4</td>\n",
       "      <td>1</td>\n",
       "      <td>7</td>\n",
       "      <td>Mon May 11 03:21:41 UTC 2009</td>\n",
       "      <td>kindle2</td>\n",
       "      <td>yamarama</td>\n",
       "      <td>fair kindle2 think perfect</td>\n",
       "    </tr>\n",
       "    <tr>\n",
       "      <td>5</td>\n",
       "      <td>1</td>\n",
       "      <td>8</td>\n",
       "      <td>Mon May 11 03:22:00 UTC 2009</td>\n",
       "      <td>kindle2</td>\n",
       "      <td>GeorgeVHulme</td>\n",
       "      <td>big happy kindle2</td>\n",
       "    </tr>\n",
       "    <tr>\n",
       "      <td>6</td>\n",
       "      <td>0</td>\n",
       "      <td>9</td>\n",
       "      <td>Mon May 11 03:22:30 UTC 2009</td>\n",
       "      <td>aig</td>\n",
       "      <td>Seth937</td>\n",
       "      <td>fuck economy hate aig non loan give ass</td>\n",
       "    </tr>\n",
       "    <tr>\n",
       "      <td>7</td>\n",
       "      <td>1</td>\n",
       "      <td>10</td>\n",
       "      <td>Mon May 11 03:26:10 UTC 2009</td>\n",
       "      <td>jquery</td>\n",
       "      <td>dcostalis</td>\n",
       "      <td>jquery new good friend</td>\n",
       "    </tr>\n",
       "    <tr>\n",
       "      <td>8</td>\n",
       "      <td>1</td>\n",
       "      <td>11</td>\n",
       "      <td>Mon May 11 03:27:15 UTC 2009</td>\n",
       "      <td>twitter</td>\n",
       "      <td>PJ_King</td>\n",
       "      <td>love twitter</td>\n",
       "    </tr>\n",
       "    <tr>\n",
       "      <td>9</td>\n",
       "      <td>1</td>\n",
       "      <td>12</td>\n",
       "      <td>Mon May 11 03:29:20 UTC 2009</td>\n",
       "      <td>obama</td>\n",
       "      <td>mandanicole</td>\n",
       "      <td>love obama make joke</td>\n",
       "    </tr>\n",
       "  </tbody>\n",
       "</table>\n",
       "</div>"
      ],
      "text/plain": [
       "   Sentiment   1                             2        3             4  \\\n",
       "0          1   3  Mon May 11 03:17:40 UTC 2009  kindle2        tpryan   \n",
       "1          1   4  Mon May 11 03:18:03 UTC 2009  kindle2        vcu451   \n",
       "2          1   5  Mon May 11 03:18:54 UTC 2009  kindle2        chadfu   \n",
       "3          1   6  Mon May 11 03:19:04 UTC 2009  kindle2         SIX15   \n",
       "4          1   7  Mon May 11 03:21:41 UTC 2009  kindle2      yamarama   \n",
       "5          1   8  Mon May 11 03:22:00 UTC 2009  kindle2  GeorgeVHulme   \n",
       "6          0   9  Mon May 11 03:22:30 UTC 2009      aig       Seth937   \n",
       "7          1  10  Mon May 11 03:26:10 UTC 2009   jquery     dcostalis   \n",
       "8          1  11  Mon May 11 03:27:15 UTC 2009  twitter       PJ_King   \n",
       "9          1  12  Mon May 11 03:29:20 UTC 2009    obama   mandanicole   \n",
       "\n",
       "                                                Text  \n",
       "0                  love kindle2 cool fantastic right  \n",
       "1              read kindle2 love lee child good read  \n",
       "2                     assesment kindle2 fucking rock  \n",
       "3  love kindle2 month look new big huge need remorse  \n",
       "4                         fair kindle2 think perfect  \n",
       "5                                  big happy kindle2  \n",
       "6            fuck economy hate aig non loan give ass  \n",
       "7                             jquery new good friend  \n",
       "8                                       love twitter  \n",
       "9                               love obama make joke  "
      ]
     },
     "execution_count": 5,
     "metadata": {},
     "output_type": "execute_result"
    }
   ],
   "source": [
    "df_test = df_test.drop('Unnamed: 0', 1)\n",
    "df_test.head(10)"
   ]
  },
  {
   "cell_type": "code",
   "execution_count": 6,
   "metadata": {
    "colab": {},
    "colab_type": "code",
    "id": "GmHXJF_NXBn_"
   },
   "outputs": [],
   "source": [
    "# Divido los datos en dos listas \n",
    "#     X_train: los tweets de entrenamiento\n",
    "#     y_train: target (polaridad) de entrenamiento\n",
    "X_train = [doc[6] for doc in tweets_train]\n",
    "y_train = [doc[1] for doc in tweets_train]\n",
    "\n",
    "#Realizamos la misma acción para los datos de test. \n",
    "#     X_test: los tweets de test\n",
    "#     y_test: target (polaridad) de test\n",
    "X_test = [doc[6] for doc in tweets_test]\n",
    "y_test = [doc[1] for doc in tweets_test]"
   ]
  },
  {
   "cell_type": "code",
   "execution_count": 7,
   "metadata": {
    "colab": {
     "base_uri": "https://localhost:8080/",
     "height": 54
    },
    "colab_type": "code",
    "id": "LymXs3OgXDM1",
    "outputId": "3df3f7ce-7416-4e31-a1cb-a0dcfccf2ac0"
   },
   "outputs": [
    {
     "name": "stdout",
     "output_type": "stream",
     "text": [
      "['barely learn quot;abc alphabet song&quot parody quot;twinkle twinkle lil star&quot pretty mind blow tell', 'pam gooood miss', 'totally join reception', 'love saturday run pick old college friend let sweet tea vodka start flow', 'hey new follower come introduce']\n"
     ]
    }
   ],
   "source": [
    "print(X_train[0:5])"
   ]
  },
  {
   "cell_type": "markdown",
   "metadata": {
    "colab_type": "text",
    "id": "xUWKNnUxS_Be"
   },
   "source": [
    "## Bolsa de palabras\n",
    "* Escogemos las 500 palabras más frecuentes.\n",
    "* Tokenizamos los datos de entrenamiento.\n",
    "* Pasamos las palabras al número de veces que se encuentran en los tweets.\n",
    "\n"
   ]
  },
  {
   "cell_type": "code",
   "execution_count": 8,
   "metadata": {
    "colab": {
     "base_uri": "https://localhost:8080/",
     "height": 34
    },
    "colab_type": "code",
    "id": "SxIfUYQsETUG",
    "outputId": "132a8ea9-7c52-449e-998a-effd75c18a16"
   },
   "outputs": [
    {
     "name": "stderr",
     "output_type": "stream",
     "text": [
      "Using TensorFlow backend.\n"
     ]
    }
   ],
   "source": [
    "#Bolsa de palabras\n",
    "from sklearn.preprocessing import LabelEncoder\n",
    "from keras.preprocessing.text import Tokenizer\n",
    "from keras.utils import np_utils\n",
    "\n",
    "#Bolsa de palabras.\n",
    "max_words = 500 #Escogemos las 500 más frecuentes.\n",
    "tokenizer = Tokenizer(num_words=max_words)\n",
    "tokenizer.fit_on_texts(X_train)\n",
    "#tokenizer.fit_on_texts(X_test)\n",
    "\n",
    "X_matrix = tokenizer.texts_to_matrix(X_train, mode='count')\n",
    "X_matrix_test = tokenizer.texts_to_matrix(X_test, mode='count')\n",
    "\n",
    "#X_train = np.array(X_train)\n",
    "#X_test = np.array(X_test)\n",
    "\n",
    "# Codificación del Target\n",
    "encoder = LabelEncoder()\n",
    "encoder.fit(y_train)\n",
    "y_train = encoder.transform(y_train)\n",
    "y_test = encoder.transform(y_test)"
   ]
  },
  {
   "cell_type": "markdown",
   "metadata": {
    "colab_type": "text",
    "id": "81APsq6vGBaw"
   },
   "source": [
    "Ahora tenemos el target codificado en 0 para sentimiento negativo y 1 para el sentimiento positivo."
   ]
  },
  {
   "cell_type": "markdown",
   "metadata": {
    "colab_type": "text",
    "id": "Mf0-Av1-W5Gy"
   },
   "source": [
    "## Red Simple.\n",
    "* Una vez creada la red mostramos su arquitectura:\n",
    "    - 500 Neuronas de entrada\n",
    "    - Capa 2: 20 Neuronas\n",
    "    - Conexiones \"capa de entrada -> Capa 2\" = (500*20) + 20 = 10020 Conexiones\n",
    "    - Capa 3: 10 Neuronas\n",
    "    - Conexiones \"Capa 2 -> Capa 3\" = (20*10) + 10 = 210 Conexiones\n",
    "    - Capa de salida: 1 Neuronas\n",
    "    - Conexiones \"Capa 3 -> Capa de salida\" = (10*1) + 1 = 11 Conexiones"
   ]
  },
  {
   "cell_type": "code",
   "execution_count": 9,
   "metadata": {
    "colab": {
     "base_uri": "https://localhost:8080/",
     "height": 356
    },
    "colab_type": "code",
    "id": "5S8PGYhfW5Gz",
    "outputId": "629b38bc-869e-4f84-e6e5-2cae7a8ce8ce"
   },
   "outputs": [],
   "source": [
    "#Red Neuronal.\n",
    "import numpy as np\n",
    "from keras.models import Sequential\n",
    "from keras.layers import Dense, Dropout\n",
    "\n",
    "np.random.seed(9)\n",
    "model = Sequential() #Contenedor genérico.\n",
    "model.add(Dense(20, activation='relu', input_dim=max_words))\n",
    "model.add(Dropout(0.1))\n",
    "model.add(Dense(10, activation='relu'))\n",
    "model.add(Dropout(0.1))\n",
    "model.add(Dense(1, activation='sigmoid'))\n",
    "model.compile(loss='binary_crossentropy',\n",
    "              optimizer='adam',\n",
    "              metrics=['accuracy'])"
   ]
  },
  {
   "cell_type": "code",
   "execution_count": 10,
   "metadata": {
    "colab": {
     "base_uri": "https://localhost:8080/",
     "height": 302
    },
    "colab_type": "code",
    "id": "blvYA3fMGK4f",
    "outputId": "e918ba94-6790-4b81-e292-e7ffad0ffb2c"
   },
   "outputs": [
    {
     "name": "stdout",
     "output_type": "stream",
     "text": [
      "Model: \"sequential_1\"\n",
      "_________________________________________________________________\n",
      "Layer (type)                 Output Shape              Param #   \n",
      "=================================================================\n",
      "dense_1 (Dense)              (None, 20)                10020     \n",
      "_________________________________________________________________\n",
      "dropout_1 (Dropout)          (None, 20)                0         \n",
      "_________________________________________________________________\n",
      "dense_2 (Dense)              (None, 10)                210       \n",
      "_________________________________________________________________\n",
      "dropout_2 (Dropout)          (None, 10)                0         \n",
      "_________________________________________________________________\n",
      "dense_3 (Dense)              (None, 1)                 11        \n",
      "=================================================================\n",
      "Total params: 10,241\n",
      "Trainable params: 10,241\n",
      "Non-trainable params: 0\n",
      "_________________________________________________________________\n"
     ]
    }
   ],
   "source": [
    "model.summary()"
   ]
  },
  {
   "cell_type": "code",
   "execution_count": 11,
   "metadata": {
    "colab": {
     "base_uri": "https://localhost:8080/",
     "height": 722
    },
    "colab_type": "code",
    "id": "_TsWCRbXGNey",
    "outputId": "16cdfc28-fca8-45a7-d9c1-6c42b6373063"
   },
   "outputs": [
    {
     "name": "stdout",
     "output_type": "stream",
     "text": [
      "Train on 1440000 samples, validate on 160000 samples\n",
      "Epoch 1/20\n",
      "1440000/1440000 [==============================] - 83s 57us/step - loss: 0.5482 - accuracy: 0.7137 - val_loss: 0.5384 - val_accuracy: 0.7190\n",
      "Epoch 2/20\n",
      "1440000/1440000 [==============================] - 66s 46us/step - loss: 0.5402 - accuracy: 0.7192 - val_loss: 0.5360 - val_accuracy: 0.7207\n",
      "Epoch 3/20\n",
      "1440000/1440000 [==============================] - 68s 47us/step - loss: 0.5381 - accuracy: 0.7210 - val_loss: 0.5347 - val_accuracy: 0.7221\n",
      "Epoch 4/20\n",
      "1440000/1440000 [==============================] - 57s 40us/step - loss: 0.5370 - accuracy: 0.7218 - val_loss: 0.5345 - val_accuracy: 0.7228\n",
      "Epoch 5/20\n",
      "1440000/1440000 [==============================] - 60s 42us/step - loss: 0.5359 - accuracy: 0.7229 - val_loss: 0.5340 - val_accuracy: 0.7217\n",
      "Epoch 6/20\n",
      "1440000/1440000 [==============================] - 59s 41us/step - loss: 0.5352 - accuracy: 0.7229 - val_loss: 0.5342 - val_accuracy: 0.7229\n",
      "Epoch 7/20\n",
      "1440000/1440000 [==============================] - 58s 40us/step - loss: 0.5348 - accuracy: 0.7233 - val_loss: 0.5335 - val_accuracy: 0.7226\n",
      "Epoch 8/20\n",
      "1440000/1440000 [==============================] - 61s 42us/step - loss: 0.5344 - accuracy: 0.7238 - val_loss: 0.5340 - val_accuracy: 0.7228\n",
      "Epoch 9/20\n",
      "1440000/1440000 [==============================] - 63s 44us/step - loss: 0.5343 - accuracy: 0.7235 - val_loss: 0.5336 - val_accuracy: 0.7224\n",
      "Epoch 10/20\n",
      "1440000/1440000 [==============================] - 72s 50us/step - loss: 0.5338 - accuracy: 0.7239 - val_loss: 0.5333 - val_accuracy: 0.7227\n",
      "Epoch 11/20\n",
      "1440000/1440000 [==============================] - 65s 45us/step - loss: 0.5337 - accuracy: 0.7241 - val_loss: 0.5333 - val_accuracy: 0.7228\n",
      "Epoch 12/20\n",
      "1440000/1440000 [==============================] - 68s 47us/step - loss: 0.5335 - accuracy: 0.7240 - val_loss: 0.5334 - val_accuracy: 0.7220\n",
      "Epoch 13/20\n",
      "1440000/1440000 [==============================] - 66s 46us/step - loss: 0.5333 - accuracy: 0.7244 - val_loss: 0.5334 - val_accuracy: 0.7228\n",
      "Epoch 14/20\n",
      "1440000/1440000 [==============================] - 66s 46us/step - loss: 0.5333 - accuracy: 0.7245 - val_loss: 0.5333 - val_accuracy: 0.7230\n",
      "Epoch 15/20\n",
      "1440000/1440000 [==============================] - 66s 46us/step - loss: 0.5332 - accuracy: 0.7245 - val_loss: 0.5333 - val_accuracy: 0.7222\n",
      "Epoch 16/20\n",
      "1440000/1440000 [==============================] - 70s 49us/step - loss: 0.5331 - accuracy: 0.7245 - val_loss: 0.5335 - val_accuracy: 0.7226\n",
      "Epoch 17/20\n",
      "1440000/1440000 [==============================] - 67s 47us/step - loss: 0.5330 - accuracy: 0.7248 - val_loss: 0.5334 - val_accuracy: 0.7226\n",
      "Epoch 18/20\n",
      "1440000/1440000 [==============================] - 70s 48us/step - loss: 0.5327 - accuracy: 0.7249 - val_loss: 0.5335 - val_accuracy: 0.7228\n",
      "Epoch 19/20\n",
      "1440000/1440000 [==============================] - 59s 41us/step - loss: 0.5327 - accuracy: 0.7248 - val_loss: 0.5333 - val_accuracy: 0.7222\n",
      "Epoch 20/20\n",
      "1440000/1440000 [==============================] - 57s 40us/step - loss: 0.5327 - accuracy: 0.7249 - val_loss: 0.5332 - val_accuracy: 0.7224\n"
     ]
    },
    {
     "data": {
      "text/plain": [
       "<keras.callbacks.callbacks.History at 0x1d70036a748>"
      ]
     },
     "execution_count": 11,
     "metadata": {},
     "output_type": "execute_result"
    }
   ],
   "source": [
    "# Entrenamos la red neuronal.\n",
    "model.fit(X_matrix, y_train, batch_size=64, verbose=1, epochs=20, validation_split=0.1)"
   ]
  },
  {
   "cell_type": "code",
   "execution_count": 12,
   "metadata": {
    "colab": {
     "base_uri": "https://localhost:8080/",
     "height": 269
    },
    "colab_type": "code",
    "id": "Gu0qRLX_6mUY",
    "outputId": "f5d4694f-9cb2-4c8c-9da0-fc32c96ace45"
   },
   "outputs": [
    {
     "name": "stdout",
     "output_type": "stream",
     "text": [
      "[0 0 1 1 1]\n",
      "[1 0 1 1 1]\n",
      "Accuracy: 0.7276\n",
      "F1: 0.7272\n",
      "Precision: 0.7291\n",
      "Recall: 0.7276\n",
      "              precision    recall  f1-score   support\n",
      "\n",
      "           0       0.75      0.69      0.72    800000\n",
      "           1       0.71      0.77      0.74    800000\n",
      "\n",
      "    accuracy                           0.73   1600000\n",
      "   macro avg       0.73      0.73      0.73   1600000\n",
      "weighted avg       0.73      0.73      0.73   1600000\n",
      "\n"
     ]
    }
   ],
   "source": [
    "from sklearn.metrics import accuracy_score, f1_score, precision_score, recall_score, confusion_matrix, classification_report\n",
    "\n",
    "y_true = encoder.inverse_transform(y_train.reshape(-1))\n",
    "\n",
    "print(y_true[0:5])\n",
    "\n",
    "y_pred = model.predict_classes(X_matrix)\n",
    "y_pred = encoder.inverse_transform(y_pred.reshape(-1))\n",
    "\n",
    "print(y_pred[0:5])\n",
    "\n",
    "print('Accuracy: {acc:0.4f}'.format(acc=accuracy_score(y_true=y_true, y_pred=y_pred)))\n",
    "print('F1: {f1:0.4f}'.format(f1=f1_score(y_true=y_true, y_pred=y_pred, average='weighted')))\n",
    "print('Precision: {pre:0.4f}'.format(pre=precision_score(y_true=y_true, y_pred=y_pred, average='weighted')))\n",
    "print('Recall: {rec:0.4f}'.format(rec=recall_score(y_true=y_true, y_pred=y_pred, average='weighted')))\n",
    "print(classification_report(y_true=y_true, y_pred=y_pred))\n",
    "confusion_matrix = confusion_matrix(y_true=y_true, y_pred=y_pred, labels=[0, 1])"
   ]
  },
  {
   "cell_type": "code",
   "execution_count": 14,
   "metadata": {
    "colab": {
     "base_uri": "https://localhost:8080/",
     "height": 311
    },
    "colab_type": "code",
    "id": "tK9wpS2gGU2h",
    "outputId": "d5a6e895-8911-4358-c8e2-3be01854cca4"
   },
   "outputs": [
    {
     "data": {
      "image/png": "[encoded data removed]",
      "text/plain": [
       "<Figure size 432x288 with 2 Axes>"
      ]
     },
     "metadata": {
      "needs_background": "light"
     },
     "output_type": "display_data"
    }
   ],
   "source": [
    "import numpy as np\n",
    "import matplotlib.pyplot as plt\n",
    "import itertools\n",
    "\n",
    "def plot_confusion_matrix(cm, classes, title, cmap=plt.cm.Blues):\n",
    "    \"\"\"\n",
    "    This function prints and plots the confusion matrix.\n",
    "    \"\"\"\n",
    "    plt.imshow(cm, interpolation='nearest', cmap=cmap)\n",
    "    plt.title(title)\n",
    "    plt.colorbar()\n",
    "    tick_marks = np.arange(len(classes))\n",
    "    plt.xticks(tick_marks, classes, rotation=45)\n",
    "    plt.yticks(tick_marks, classes)\n",
    "\n",
    "    thresh = cm.max() / 2.\n",
    "    for i, j in itertools.product(range(cm.shape[0]), range(cm.shape[1])):\n",
    "        plt.text(j, i, format(cm[i, j], 'd'), horizontalalignment=\"center\",\n",
    "                 color=\"white\" if cm[i, j] > thresh else \"black\")\n",
    "\n",
    "    plt.tight_layout()\n",
    "    plt.ylabel('True label')\n",
    "    plt.xlabel('Predicted label')\n",
    "\n",
    "plt.figure()\n",
    "plot_confusion_matrix(confusion_matrix, classes=['negativo', 'positivo'],\n",
    "                      title='Matriz de Confusión')\n",
    "plt.show()"
   ]
  },
  {
   "cell_type": "markdown",
   "metadata": {
    "colab_type": "text",
    "id": "qQwPNYEs-PQA"
   },
   "source": [
    "## Red Recurrente LSTM."
   ]
  },
  {
   "cell_type": "code",
   "execution_count": 1,
   "metadata": {},
   "outputs": [],
   "source": [
    "import pandas as pd"
   ]
  },
  {
   "cell_type": "code",
   "execution_count": 2,
   "metadata": {},
   "outputs": [
    {
     "name": "stdout",
     "output_type": "stream",
     "text": [
      "Número de Tweets de entrenamiento: 1600000\n",
      "Número de Tweets de test: 359\n"
     ]
    }
   ],
   "source": [
    "#Tweets de entrenamiento.\n",
    "tweets_train = './/data/traindatanormalized2.csv'\n",
    "\n",
    "df_train = pd.read_csv(tweets_train)\n",
    "df_train.Text=df_train.Text.astype(str)\n",
    "df_train['Sentiment'] = df_train['Sentiment'].replace({0: 0, 4: 1})\n",
    "df_train = df_train.sample(frac=1).reset_index(drop=True)\n",
    "df_train = df_train.drop('Unnamed: 0', 1)\n",
    "\n",
    "\n",
    "#Tweets de prueba.\n",
    "tweets_test = './/data/testdatanormalized2.csv'\n",
    "\n",
    "df_test = pd.read_csv(tweets_test)\n",
    "df_test.Text=df_test.Text.astype(str)\n",
    "df_test = df_test.drop(df_test[df_test['Sentiment']==2].index)\n",
    "df_test['Sentiment'] = df_test['Sentiment'].replace({0: 0, 4: 1})\n",
    "df_test = df_test.drop('Unnamed: 0', 1)\n",
    "\n",
    "print('Número de Tweets de entrenamiento: {num}'.format(num=len(df_train['Sentiment'])))\n",
    "print('Número de Tweets de test: {num}'.format(num=len(df_test['Sentiment'])))"
   ]
  },
  {
   "cell_type": "code",
   "execution_count": 3,
   "metadata": {},
   "outputs": [
    {
     "name": "stderr",
     "output_type": "stream",
     "text": [
      "Using TensorFlow backend.\n"
     ]
    },
    {
     "name": "stdout",
     "output_type": "stream",
     "text": [
      "Forma de las etiquetas del tensor: (1600000,)\n",
      "Forma de las etiquetas del tensor: (359,)\n"
     ]
    }
   ],
   "source": [
    "#Bolsa de palabras\n",
    "from sklearn.preprocessing import LabelEncoder\n",
    "from keras.preprocessing.text import Tokenizer\n",
    "from keras.utils import np_utils\n",
    "\n",
    "#Bolsa de palabras.\n",
    "max_words = 500 #Escogemos las 500 más frecuentes.\n",
    "tokenizer = Tokenizer(num_words=max_words)\n",
    "tokenizer.fit_on_texts(df_train['Text'].values)\n",
    "\n",
    "# Codificación del Target\n",
    "encoder = LabelEncoder()\n",
    "encoder.fit(df_train['Sentiment'].values)\n",
    "y_train = encoder.transform(df_train['Sentiment'].values)\n",
    "y_test = encoder.transform(df_test['Sentiment'].values)\n",
    "\n",
    "# Codificación del Target\n",
    "#y_train = pd.get_dummies(df_train['Sentiment'].values)\n",
    "print('Forma de las etiquetas del tensor:', y_train.shape)\n",
    "\n",
    "#y_test = pd.get_dummies(df_test['Sentiment'].values)\n",
    "print('Forma de las etiquetas del tensor:', y_test.shape)"
   ]
  },
  {
   "cell_type": "markdown",
   "metadata": {},
   "source": [
    "Hasta ahora hemos realizado el mismo trabajo que haríamos para la red simple: \n",
    "\n",
    "Los datos han sido previeamente tratados, por eso se utiliza el archivo \"traindatanormalized2\" y \"testdatanormalized2\".\n",
    "* Importamos los datos, separando una muestra para entrenar la red y otra para validar el entrenamiento.\n",
    "* Creamos una bolsa de 500 palabras (se podrían escoger más, lo que aumentaría la precisión de la red, pero ralentiza todo el proceso)."
   ]
  },
  {
   "cell_type": "code",
   "execution_count": 4,
   "metadata": {},
   "outputs": [
    {
     "name": "stdout",
     "output_type": "stream",
     "text": [
      "Found 278068 unique tokens.\n"
     ]
    }
   ],
   "source": [
    "from keras.preprocessing.sequence import pad_sequences\n",
    "\n",
    "# documentos pad con una longitud máxima de 4 palabras\n",
    "max_length = 250\n",
    "\n",
    "X_train = tokenizer.texts_to_sequences(df_train['Text'].values)\n",
    "X_test = tokenizer.texts_to_sequences(df_test['Text'].values)\n",
    "\n",
    "X_train = pad_sequences(X_train, maxlen=max_length)\n",
    "X_test = pad_sequences(X_test, maxlen=max_length)\n",
    "\n",
    "word_index = tokenizer.word_index\n",
    "print('Found %s unique tokens.' % len(word_index))"
   ]
  },
  {
   "cell_type": "code",
   "execution_count": 5,
   "metadata": {},
   "outputs": [],
   "source": [
    "#Red Recurrente LSTM.\n",
    "import numpy as np\n",
    "from keras.models import Sequential\n",
    "from keras.layers import Dense, Dropout, LSTM, Embedding, Layer, SpatialDropout1D\n",
    "from keras.callbacks import EarlyStopping\n",
    "\n",
    "EMBEDDING_DIM = 100\n",
    "\n",
    "model = Sequential()\n",
    "model.add(Embedding(max_words, EMBEDDING_DIM, input_length=X_train.shape[1]))\n",
    "model.add(SpatialDropout1D(0.2))\n",
    "model.add(LSTM(100, dropout=0.2, recurrent_dropout=0.2))\n",
    "model.add(Dense(2, activation='softmax'))\n",
    "model.compile(loss='sparse_categorical_crossentropy', optimizer='adam', metrics=['accuracy'])"
   ]
  },
  {
   "cell_type": "code",
   "execution_count": 6,
   "metadata": {},
   "outputs": [
    {
     "name": "stdout",
     "output_type": "stream",
     "text": [
      "Model: \"sequential_1\"\n",
      "_________________________________________________________________\n",
      "Layer (type)                 Output Shape              Param #   \n",
      "=================================================================\n",
      "embedding_1 (Embedding)      (None, 250, 100)          50000     \n",
      "_________________________________________________________________\n",
      "spatial_dropout1d_1 (Spatial (None, 250, 100)          0         \n",
      "_________________________________________________________________\n",
      "lstm_1 (LSTM)                (None, 100)               80400     \n",
      "_________________________________________________________________\n",
      "dense_1 (Dense)              (None, 2)                 202       \n",
      "=================================================================\n",
      "Total params: 130,602\n",
      "Trainable params: 130,602\n",
      "Non-trainable params: 0\n",
      "_________________________________________________________________\n"
     ]
    }
   ],
   "source": [
    "model.summary()"
   ]
  },
  {
   "cell_type": "code",
   "execution_count": 7,
   "metadata": {},
   "outputs": [
    {
     "name": "stderr",
     "output_type": "stream",
     "text": [
      "C:\\Users\\veral\\AppData\\Local\\Continuum\\anaconda3\\lib\\site-packages\\tensorflow_core\\python\\framework\\indexed_slices.py:433: UserWarning: Converting sparse IndexedSlices to a dense Tensor of unknown shape. This may consume a large amount of memory.\n",
      "  \"Converting sparse IndexedSlices to a dense Tensor of unknown shape. \"\n"
     ]
    },
    {
     "name": "stdout",
     "output_type": "stream",
     "text": [
      "Train on 1440000 samples, validate on 160000 samples\n",
      "Epoch 1/5\n",
      "1440000/1440000 [==============================] - 10878s 8ms/step - loss: 0.5422 - accuracy: 0.7154 - val_loss: 0.5350 - val_accuracy: 0.7212\n",
      "Epoch 2/5\n",
      "1440000/1440000 [==============================] - 10665s 7ms/step - loss: 0.5343 - accuracy: 0.7213 - val_loss: 0.5320 - val_accuracy: 0.7248\n",
      "Epoch 3/5\n",
      "1440000/1440000 [==============================] - 10759s 7ms/step - loss: 0.5309 - accuracy: 0.7241 - val_loss: 0.5292 - val_accuracy: 0.7256\n",
      "Epoch 4/5\n",
      "1440000/1440000 [==============================] - 10636s 7ms/step - loss: 0.5287 - accuracy: 0.7253 - val_loss: 0.5288 - val_accuracy: 0.7270\n",
      "Epoch 5/5\n",
      "1440000/1440000 [==============================] - 10628s 7ms/step - loss: 0.5272 - accuracy: 0.7263 - val_loss: 0.5272 - val_accuracy: 0.7276\n"
     ]
    }
   ],
   "source": [
    "epochs = 5\n",
    "batch_size = 64\n",
    "\n",
    "history = model.fit(X_train, y_train, epochs=epochs, batch_size=batch_size,validation_split=0.1,\n",
    "                    callbacks=[EarlyStopping(monitor='val_loss', patience=3, min_delta=0.0001)])"
   ]
  },
  {
   "cell_type": "code",
   "execution_count": 8,
   "metadata": {
    "colab": {
     "base_uri": "https://localhost:8080/",
     "height": 229
    },
    "colab_type": "code",
    "id": "NFx5Zx6n-ZnO",
    "outputId": "048a9891-c373-4e07-d191-f88839ab2040"
   },
   "outputs": [
    {
     "name": "stdout",
     "output_type": "stream",
     "text": [
      "[1 1 1 1 1]\n",
      "[1 1 1 1 1]\n",
      "Accuracy: 0.7716\n",
      "F1: 0.7692\n",
      "Precision: 0.7811\n",
      "Recall: 0.7716\n",
      "              precision    recall  f1-score   support\n",
      "\n",
      "           0       0.83      0.67      0.74       177\n",
      "           1       0.73      0.87      0.79       182\n",
      "\n",
      "    accuracy                           0.77       359\n",
      "   macro avg       0.78      0.77      0.77       359\n",
      "weighted avg       0.78      0.77      0.77       359\n",
      "\n"
     ]
    }
   ],
   "source": [
    "# La evaluamos.\n",
    "from sklearn.metrics import accuracy_score, f1_score, precision_score, recall_score, confusion_matrix, classification_report\n",
    "\n",
    "y_true = encoder.inverse_transform(y_test.reshape(-1))\n",
    "\n",
    "print(y_true[0:5])\n",
    "\n",
    "y_pred = model.predict_classes(X_test)\n",
    "y_pred = encoder.inverse_transform(y_pred.reshape(-1))\n",
    "\n",
    "print(y_pred[0:5])\n",
    "\n",
    "print('Accuracy: {acc:0.4f}'.format(acc=accuracy_score(y_true=y_true, y_pred=y_pred)))\n",
    "print('F1: {f1:0.4f}'.format(f1=f1_score(y_true=y_true, y_pred=y_pred, average='weighted')))\n",
    "print('Precision: {pre:0.4f}'.format(pre=precision_score(y_true=y_true, y_pred=y_pred, average='weighted')))\n",
    "print('Recall: {rec:0.4f}'.format(rec=recall_score(y_true=y_true, y_pred=y_pred, average='weighted')))\n",
    "print(classification_report(y_true=y_true, y_pred=y_pred))\n",
    "confusion_matrix = confusion_matrix(y_true=y_true, y_pred=y_pred, labels=[0, 1])"
   ]
  },
  {
   "cell_type": "code",
   "execution_count": 9,
   "metadata": {
    "colab": {
     "base_uri": "https://localhost:8080/",
     "height": 311
    },
    "colab_type": "code",
    "id": "QVR-cUo6-d-q",
    "outputId": "30019aee-8a79-4f2a-9452-14e687aada62"
   },
   "outputs": [
    {
     "data": {
      "text/plain": [
       "<Figure size 640x480 with 2 Axes>"
      ]
     },
     "metadata": {},
     "output_type": "display_data"
    }
   ],
   "source": [
    "import matplotlib.pyplot as plt\n",
    "import itertools\n",
    "\n",
    "def plot_confusion_matrix(cm, classes, title, cmap=plt.cm.Blues):\n",
    "    \"\"\"\n",
    "    This function prints and plots the confusion matrix.\n",
    "    \"\"\"\n",
    "    plt.imshow(cm, interpolation='nearest', cmap=cmap)\n",
    "    plt.title(title)\n",
    "    plt.colorbar()\n",
    "    tick_marks = np.arange(len(classes))\n",
    "    plt.xticks(tick_marks, classes, rotation=45)\n",
    "    plt.yticks(tick_marks, classes)\n",
    "\n",
    "    thresh = cm.max() / 2.\n",
    "    for i, j in itertools.product(range(cm.shape[0]), range(cm.shape[1])):\n",
    "        plt.text(j, i, format(cm[i, j], 'd'), horizontalalignment=\"center\",\n",
    "                 color=\"white\" if cm[i, j] > thresh else \"black\")\n",
    "\n",
    "    plt.tight_layout()\n",
    "    plt.ylabel('True label')\n",
    "    plt.xlabel('Predicted label')\n",
    "\n",
    "plt.figure()\n",
    "plot_confusion_matrix(confusion_matrix, classes=['negativo', 'positivo'],\n",
    "                      title='Matriz de Confusión')\n",
    "plt.show()"
   ]
  },
  {
   "cell_type": "markdown",
   "metadata": {},
   "source": [
    "## Conclusión.\n",
    "Como se puede observar la precisión alcanzada no es muy buena, pero esto no tiene porque estar directamente relacionado con las redes neronales, sino con el tratamiento previo que se ha realizado con los datos, ya que la normalización que se hizo con los textos es un poco básica y se podría mejorar (por ejemplo, podría haber palabras a las que se les haya añadido letras de más, \"looove\", o expresiones que caraterizan un comportamiento positivo, pero que no se han podido tomar en la tokenización de las palabras, por ejemplo el caso de la expresión lol, es un acrónimo en inglés que significa Laughing out loud, o Laugh out loud). También encontramos que la bolsa de palabras utilizada, podría ser mayor, pero interesaba la comparación entre los diferentes tipos de redes.\n",
    "\n",
    "Teniendo en cuenta esto si se puede apreciar que la red recurrente LSTM ha conseguido un  mejor aprendizaje de los textos en un menor número de épocas de aprendizaje, aunque se puede apreciar también que el tiempo de aprendizaje por época es sustancialmente mayor para la red LSTM.\n",
    "\n",
    "Por lo que se puede concluir que la red LSTM es más útil a la hora de clasificación de textos que una red neuronal simple, ya que una red neuronal recurrente no tiene una estructura de capas definida, sino que permiten conexiones arbitrarias entre las neuronas, incluso pudiendo crear ciclos, con esto se consigue crear la temporalidad, permitiendo que la red tenga memoria. Por lo que son redes muy potentes para todo lo que tiene que ver con el análisis de secuencias.\n",
    "\n",
    "Nota:\n",
    "No se han corregido los posibles fallos en la precisión mencionados anteriormente, para hacer énfasis en los diferentes factores implicados en el aprendizaje de las redes neuronales. Ya que como se ha podido observar, esta estaría relacionada no solo con el tipo de red utilizada (en este caso una simple y otra LSTM), sino también con la calidad del dato y su tratamiento previo."
   ]
  },
  {
   "cell_type": "code",
   "execution_count": null,
   "metadata": {},
   "outputs": [],
   "source": []
  }
 ],
 "metadata": {
  "@webio": {
   "lastCommId": null,
   "lastKernelId": null
  },
  "colab": {
   "collapsed_sections": [],
   "name": "Ej_Deep_Learning.ipynb",
   "provenance": [],
   "toc_visible": true,
   "version": "0.3.2"
  },
  "kernelspec": {
   "display_name": "Python 3",
   "language": "python",
   "name": "python3"
  },
  "language_info": {
   "codemirror_mode": {
    "name": "ipython",
    "version": 3
   },
   "file_extension": ".py",
   "mimetype": "text/x-python",
   "name": "python",
   "nbconvert_exporter": "python",
   "pygments_lexer": "ipython3",
   "version": "3.7.4"
  }
 },
 "nbformat": 4,
 "nbformat_minor": 1
}
